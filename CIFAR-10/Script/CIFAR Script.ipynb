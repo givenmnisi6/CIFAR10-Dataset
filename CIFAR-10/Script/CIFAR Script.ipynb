{
  "nbformat": 4,
  "nbformat_minor": 0,
  "metadata": {
    "colab": {
      "provenance": [],
      "gpuType": "T4"
    },
    "kernelspec": {
      "name": "python3",
      "display_name": "Python 3"
    },
    "language_info": {
      "name": "python"
    },
    "accelerator": "GPU"
  },
  "cells": [
    {
      "cell_type": "markdown",
      "source": [
        "# The CIFAR-10 dataset\n",
        "\n",
        "CIFAR-10 is a very popular computer vision dataset provided by the Canadian Institute For Advanced Research (CIFAR). This dataset is used in many types of deep learning research for object recognition.\n",
        "\n",
        "The CIFAR-10 dataset consists of 60000 32x32 colour images in 10 classes, with 6000 images per class\n",
        "\n",
        "The ‘10’ in this CIFAR-10 dataset refers to 10 classes. These 10 classes as shown in the above image are — Airplane, Automobile, Bird, Cat, Deer, Dog, Frog, Horse, Ship and Truck respectively.\n",
        "\n",
        "The dataset is divided into five training batches and one test batch, each with 10000 images."
      ],
      "metadata": {
        "id": "s4saK8Q_xL5x"
      }
    },
    {
      "cell_type": "code",
      "source": [
        "#Importing the necessary libraries\n",
        "import numpy as np\n",
        "import matplotlib.pyplot as plt\n",
        "%matplotlib inline\n",
        "import keras\n",
        "import tensorflow as tf\n",
        "\n",
        "from tensorflow import keras\n",
        "from keras.models import Sequential\n",
        "from tensorflow.keras.layers import Input, Conv2D, Dense, Flatten, Dropout\n",
        "from tensorflow.keras.layers import GlobalMaxPooling2D, MaxPooling2D\n",
        "from tensorflow.keras.layers import BatchNormalization\n",
        "from tensorflow.keras.models import Model\n",
        "from tensorflow.keras import regularizers, optimizers\n",
        "from tensorflow.keras.utils import to_categorical\n",
        "from tensorflow.keras.callbacks import TensorBoard\n",
        "\n",
        "from sklearn.metrics import accuracy_score\n",
        "from sklearn.metrics import classification_report\n",
        "from sklearn.metrics import confusion_matrix\n",
        "from sklearn.metrics import roc_curve, auc\n",
        "from sklearn.preprocessing import label_binarize\n",
        "\n",
        "import seaborn as sns\n",
        "\n",
        "import warnings\n",
        "warnings.filterwarnings('ignore')"
      ],
      "metadata": {
        "id": "yHWJ56Wjw6bw"
      },
      "execution_count": 8,
      "outputs": []
    },
    {
      "cell_type": "markdown",
      "source": [
        "### Load Dataset"
      ],
      "metadata": {
        "id": "NRa96tHoJPpD"
      }
    },
    {
      "cell_type": "code",
      "source": [
        "# loading the dataset\n",
        "from tensorflow.keras.datasets import cifar10\n",
        "(x_train, y_train), (x_test, y_test) = cifar10.load_data()"
      ],
      "metadata": {
        "colab": {
          "base_uri": "https://localhost:8080/"
        },
        "id": "SQYVPYdGJSDG",
        "outputId": "efa14f7b-9493-40a0-9d7e-6a8a7d917250"
      },
      "execution_count": 2,
      "outputs": [
        {
          "output_type": "stream",
          "name": "stdout",
          "text": [
            "Downloading data from https://www.cs.toronto.edu/~kriz/cifar-10-python.tar.gz\n",
            "170498071/170498071 [==============================] - 3s 0us/step\n"
          ]
        }
      ]
    },
    {
      "cell_type": "code",
      "source": [
        "# training dataset (images)\n",
        "x_train.shape\n",
        "x_test.shape"
      ],
      "metadata": {
        "id": "23KCrLReJmzD",
        "colab": {
          "base_uri": "https://localhost:8080/"
        },
        "outputId": "322e152a-85c8-4bc4-bdc1-c7725ee3da64"
      },
      "execution_count": 4,
      "outputs": [
        {
          "output_type": "execute_result",
          "data": {
            "text/plain": [
              "(10000, 32, 32, 3)"
            ]
          },
          "metadata": {},
          "execution_count": 4
        }
      ]
    },
    {
      "cell_type": "markdown",
      "source": [
        "### Reshape data\n",
        "\n",
        "\n",
        "*  The CNN model that is being used expects its input data to have this specific shape.\n"
      ],
      "metadata": {
        "id": "-ni1vhXRKaJ_"
      }
    },
    {
      "cell_type": "code",
      "source": [
        "# Reshape the images to have a fixed size of (224, 224, 3)\n",
        "y_train = y_train.reshape(-1, )\n",
        "y_train\n",
        "#y_classes = [\"airplane\", \"automobile\", \"bird\", \"cat\", \"deer\", \"dog\", \"frog\", \"horse\", \"ship\", \"truck\"]"
      ],
      "metadata": {
        "id": "ERwpE3RKKWpr",
        "colab": {
          "base_uri": "https://localhost:8080/"
        },
        "outputId": "e5632dba-f213-4130-8332-bfc573f02dc5"
      },
      "execution_count": 5,
      "outputs": [
        {
          "output_type": "execute_result",
          "data": {
            "text/plain": [
              "array([6, 9, 9, ..., 9, 1, 1], dtype=uint8)"
            ]
          },
          "metadata": {},
          "execution_count": 5
        }
      ]
    },
    {
      "cell_type": "markdown",
      "source": [
        "### Exploring the dataset"
      ],
      "metadata": {
        "id": "m7IdOLKVMMmq"
      }
    },
    {
      "cell_type": "code",
      "source": [
        "# showing an image that corresponds to the specific index\n",
        "def showImages(x, y, index):\n",
        "  plt.figure(figsize = (15,2))\n",
        "  plt.imshow(x[index])\n",
        "  #plt.xlabel(y_classes[y[index]])\n",
        "\n",
        "showImages(x_train, y_train, 8)"
      ],
      "metadata": {
        "id": "OCp6ug5dMQxC"
      },
      "execution_count": null,
      "outputs": []
    },
    {
      "cell_type": "markdown",
      "source": [
        "### Normalizing and One-Hot-Encoding"
      ],
      "metadata": {
        "id": "uBIeWfADNJLm"
      }
    },
    {
      "cell_type": "code",
      "source": [
        "# Normalizing it the range of [0,1] by diving it to 255 so that it can learn easy, better\n",
        "# 255 because it is the highest pixel in an 8-bit image\n",
        "x_train = x_train/255\n",
        "x_test = x_test/255\n",
        "\n",
        "# One-Hot-Encoding\n",
        "# Converting the dataset into binary\n",
        "# One-Hot-Encoding\n",
        "y_train_en = to_categorical(y_train,10)\n",
        "y_test_en = to_categorical(y_test,10)"
      ],
      "metadata": {
        "id": "kZAAPBMTNNVC"
      },
      "execution_count": 11,
      "outputs": []
    },
    {
      "cell_type": "code",
      "source": [
        "#y_train_en[0]"
      ],
      "metadata": {
        "id": "Mb5fMaOKPp2a"
      },
      "execution_count": null,
      "outputs": []
    },
    {
      "cell_type": "markdown",
      "source": [
        "### CNN Model"
      ],
      "metadata": {
        "id": "OuWSz0xtP3P4"
      }
    },
    {
      "cell_type": "code",
      "source": [
        "model = Sequential()\n",
        "model.add(Conv2D(filters = 32, kernel_size = (4, 4), activation = \"relu\", input_shape = (32, 32, 3)))\n",
        "model.add(MaxPooling2D(pool_size = (2, 2)))\n",
        "\n",
        "model.add(Conv2D(filters = 32, kernel_size = (4,4), activation=\"relu\", input_shape = (32,32,3)))\n",
        "model.add(MaxPooling2D(pool_size = (2,2)))\n",
        "\n",
        "model.add(Flatten())\n",
        "model.add(Dense(units = 128, activation = \"relu\"))\n",
        "model.add(Dense(units = 10, activation = \"softmax\"))\n",
        "\n",
        "model.compile(loss =\"categorical_crossentropy\", optimizer =\"adam\", metrics =[\"accuracy\"])"
      ],
      "metadata": {
        "id": "h9CCvnBzP5lE"
      },
      "execution_count": 12,
      "outputs": []
    },
    {
      "cell_type": "markdown",
      "source": [
        "## Train Model - Base model"
      ],
      "metadata": {
        "id": "SO8vOB1Gy8gY"
      }
    },
    {
      "cell_type": "code",
      "source": [
        "model.summary()"
      ],
      "metadata": {
        "id": "VvWi0nhTSqMb"
      },
      "execution_count": null,
      "outputs": []
    },
    {
      "cell_type": "code",
      "source": [
        "history = model.fit(x_train, y_train_en, epochs = 17, verbose=1,validation_data=(x_test,y_test_en))"
      ],
      "metadata": {
        "id": "LJ2ISAD3Wp_G"
      },
      "execution_count": null,
      "outputs": []
    },
    {
      "cell_type": "code",
      "source": [
        "y_predictions = model.predict(x_test)"
      ],
      "metadata": {
        "colab": {
          "base_uri": "https://localhost:8080/"
        },
        "id": "WlY6fQS2VoVZ",
        "outputId": "addf047e-7572-4ab5-a4b8-32913e1f2169"
      },
      "execution_count": 15,
      "outputs": [
        {
          "output_type": "stream",
          "name": "stdout",
          "text": [
            "313/313 [==============================] - 1s 2ms/step\n"
          ]
        }
      ]
    },
    {
      "cell_type": "code",
      "source": [
        "y_predictions = [np.argmax(arr) for arr in y_predictions]"
      ],
      "metadata": {
        "id": "G09i2N2ktZD4"
      },
      "execution_count": null,
      "outputs": []
    },
    {
      "cell_type": "code",
      "source": [
        "print(classification_report(y_test, y_predictions))"
      ],
      "metadata": {
        "id": "6zD2tryGu4gq"
      },
      "execution_count": null,
      "outputs": []
    },
    {
      "cell_type": "markdown",
      "source": [
        "### Model 1"
      ],
      "metadata": {
        "id": "f33g5aNE5YVH"
      }
    },
    {
      "cell_type": "code",
      "source": [
        "model_1 = Sequential()\n",
        "model_1.add(Conv2D(64,(4,4),input_shape = (32,32,3), activation =\"relu\"))\n",
        "model_1.add(MaxPooling2D(pool_size = (2,2)))\n",
        "\n",
        "model_1.add(Dropout(0.5))\n",
        "model_1.add(Conv2D(64,(4,4),input_shape = (32,32,3), activation = \"relu\"))\n",
        "model_1.add(MaxPooling2D(pool_size = (2,2)))\n",
        "\n",
        "model_1.add(Dropout(0.25))\n",
        "model_1.add(Flatten())\n",
        "model_1.add(Dense(256,activation = \"relu\"))\n",
        "model_1.add(Dense(10,activation = \"softmax\"))\n",
        "model_1.compile(loss =\"categorical_crossentropy\", optimizer =\"adam\", metrics =[\"accuracy\"])"
      ],
      "metadata": {
        "id": "rnJR1Zbp5Uil"
      },
      "execution_count": 25,
      "outputs": []
    },
    {
      "cell_type": "code",
      "source": [
        "history = model_1.fit(x_train, y_train_en, epochs = 25, verbose=1,validation_data=(x_test,y_test_en))"
      ],
      "metadata": {
        "id": "KIrM5cLG6MXe"
      },
      "execution_count": null,
      "outputs": []
    },
    {
      "cell_type": "code",
      "source": [
        "#y_predictions = model.predict(x_test)"
      ],
      "metadata": {
        "id": "_FCbrVKKl4Aa"
      },
      "execution_count": null,
      "outputs": []
    },
    {
      "cell_type": "markdown",
      "source": [
        "### Model 2"
      ],
      "metadata": {
        "id": "fntE8UZF73GO"
      }
    },
    {
      "cell_type": "code",
      "source": [
        "# Model_2 with more filters and learning rate\n",
        "model_2 = Sequential()\n",
        "model_2.add(Conv2D(64,(4,4),input_shape=(32,32,3),activation=\"relu\"))\n",
        "model_2.add(Conv2D(64,(4,4),input_shape=(32,32,3),activation=\"relu\"))\n",
        "model_2.add(MaxPooling2D(pool_size=(2,2)))\n",
        "model_2.add(Dropout(0.4))\n",
        "model_2.add(Conv2D(128,(4,4),input_shape=(32,32,3),activation=\"relu\"))\n",
        "model_2.add(Conv2D(128,(4,4),input_shape=(32,32,3),activation=\"relu\"))\n",
        "model_2.add(MaxPooling2D(pool_size=(2,2)))\n",
        "model_2.add(Dropout(0.4))\n",
        "model_2.add(Flatten())\n",
        "model_2.add(Dense(1024, activation =\"relu\"))\n",
        "model_2.add(Dense(1024, activation =\"relu\"))\n",
        "model_2.add(Dense(10, activation =  \"softmax\"))\n",
        "model_2.compile(loss =\"categorical_crossentropy\", optimizer =optimizers.Adam(learning_rate=0.0001), metrics =[\"accuracy\"])\n",
        "history = model_2.fit(x_train, y_train_en, epochs = 50, verbose=1,validation_data=(x_test,y_test_en))"
      ],
      "metadata": {
        "id": "pM3m8r7nxvdL"
      },
      "execution_count": null,
      "outputs": []
    },
    {
      "cell_type": "code",
      "source": [
        "y_predictions = model_2.predict(x_test)"
      ],
      "metadata": {
        "id": "BQJyAuc91lTp"
      },
      "execution_count": null,
      "outputs": []
    },
    {
      "cell_type": "code",
      "source": [
        "y_predictions = [np.argmax(arr) for arr in y_predictions]"
      ],
      "metadata": {
        "id": "1FUldCEj14T-"
      },
      "execution_count": 40,
      "outputs": []
    },
    {
      "cell_type": "code",
      "source": [
        "print(classification_report(y_test, y_predictions))"
      ],
      "metadata": {
        "id": "srEDEAaj1md6"
      },
      "execution_count": null,
      "outputs": []
    },
    {
      "cell_type": "code",
      "source": [
        "y_true = label_binarize(y_test, classes=[0, 1, 2, 3, 4, 5, 6, 7, 8, 9])\n",
        "\n",
        "# Models\n",
        "y_scores = model_2.predict(x_test)\n",
        "\n",
        "n_classes = y_true.shape[1]\n",
        "\n",
        "# Compute ROC curve and ROC area for each class\n",
        "fpr = dict()\n",
        "tpr = dict()\n",
        "roc_auc = dict()\n",
        "\n",
        "for i in range(n_classes):\n",
        "    fpr[i], tpr[i], _ = roc_curve(y_true[:, i], y_scores[:, i])\n",
        "    roc_auc[i] = auc(fpr[i], tpr[i])\n",
        "\n",
        "# Plotting ROC curves\n",
        "plt.figure(figsize=(10, 8))\n",
        "for i in range(n_classes):\n",
        "    plt.plot(fpr[i], tpr[i], label=f'Class {i} (area = {roc_auc[i]:0.2f})')\n",
        "\n",
        "plt.plot([0, 1], [0, 1], color='navy', lw=2, linestyle='--')\n",
        "plt.xlim([0.0, 1.0])\n",
        "plt.ylim([0.0, 1.05])\n",
        "plt.xlabel('False Positive Rate')\n",
        "plt.ylabel('True Positive Rate')\n",
        "plt.title('Receiver Operating Characteristic: Model 2')\n",
        "plt.legend(loc='lower right')\n",
        "plt.show()"
      ],
      "metadata": {
        "id": "xxuIcaWO2QGb"
      },
      "execution_count": null,
      "outputs": []
    },
    {
      "cell_type": "code",
      "source": [
        "# Confusion matrix\n",
        "cm = confusion_matrix(y_test, y_predictions)\n",
        "\n",
        "plt.figure(figsize = (14, 7))\n",
        "sns.heatmap(cm, annot = True)\n",
        "plt.ylabel(\"Prediction\")\n",
        "plt.xlabel(\"Actual\")\n",
        "plt.title(\"Confusion Matrix\")\n",
        "plt.show"
      ],
      "metadata": {
        "id": "_8OI2Ziy2aAY"
      },
      "execution_count": null,
      "outputs": []
    }
  ]
}